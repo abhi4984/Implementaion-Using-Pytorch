{
  "nbformat": 4,
  "nbformat_minor": 0,
  "metadata": {
    "colab": {
      "name": "ANN_Pytorch_Library.ipynb",
      "provenance": []
    },
    "kernelspec": {
      "name": "python3",
      "display_name": "Python 3"
    },
    "language_info": {
      "name": "python"
    },
    "accelerator": "GPU"
  },
  "cells": [
    {
      "cell_type": "code",
      "source": [
        "import pandas as pd\n",
        "import seaborn as sns"
      ],
      "metadata": {
        "id": "vqvy51Cc9iJ8"
      },
      "execution_count": 1,
      "outputs": []
    },
    {
      "cell_type": "code",
      "source": [
        "df = pd.read_csv(r\"/content/drive/MyDrive/pima-indians-diabetes.csv\")\n",
        "df"
      ],
      "metadata": {
        "colab": {
          "base_uri": "https://localhost:8080/",
          "height": 423
        },
        "id": "shBxFxIW91eM",
        "outputId": "6c8528a7-ee5d-4c37-9f7f-919bfc5cfd43"
      },
      "execution_count": 2,
      "outputs": [
        {
          "output_type": "execute_result",
          "data": {
            "text/plain": [
              "     Pregnancies  Glucose  BloodPressure  SkinThickness  Insulin   BMI  \\\n",
              "0              1       85             66             29        0  26.6   \n",
              "1              8      183             64              0        0  23.3   \n",
              "2              1       89             66             23       94  28.1   \n",
              "3              0      137             40             35      168  43.1   \n",
              "4              5      116             74              0        0  25.6   \n",
              "..           ...      ...            ...            ...      ...   ...   \n",
              "762           10      101             76             48      180  32.9   \n",
              "763            2      122             70             27        0  36.8   \n",
              "764            5      121             72             23      112  26.2   \n",
              "765            1      126             60              0        0  30.1   \n",
              "766            1       93             70             31        0  30.4   \n",
              "\n",
              "     DiabtPediFn  Age   Outcome  \n",
              "0          0.351    31        0  \n",
              "1          0.672    32        1  \n",
              "2          0.167    21        0  \n",
              "3          2.288    33        1  \n",
              "4          0.201    30        0  \n",
              "..           ...   ...      ...  \n",
              "762        0.171    63        0  \n",
              "763        0.340    27        0  \n",
              "764        0.245    30        0  \n",
              "765        0.349    47        1  \n",
              "766        0.315    23        0  \n",
              "\n",
              "[767 rows x 9 columns]"
            ],
            "text/html": [
              "\n",
              "  <div id=\"df-a99d6743-6e9b-4abe-ac5c-3e4dfd00a6ee\">\n",
              "    <div class=\"colab-df-container\">\n",
              "      <div>\n",
              "<style scoped>\n",
              "    .dataframe tbody tr th:only-of-type {\n",
              "        vertical-align: middle;\n",
              "    }\n",
              "\n",
              "    .dataframe tbody tr th {\n",
              "        vertical-align: top;\n",
              "    }\n",
              "\n",
              "    .dataframe thead th {\n",
              "        text-align: right;\n",
              "    }\n",
              "</style>\n",
              "<table border=\"1\" class=\"dataframe\">\n",
              "  <thead>\n",
              "    <tr style=\"text-align: right;\">\n",
              "      <th></th>\n",
              "      <th>Pregnancies</th>\n",
              "      <th>Glucose</th>\n",
              "      <th>BloodPressure</th>\n",
              "      <th>SkinThickness</th>\n",
              "      <th>Insulin</th>\n",
              "      <th>BMI</th>\n",
              "      <th>DiabtPediFn</th>\n",
              "      <th>Age</th>\n",
              "      <th>Outcome</th>\n",
              "    </tr>\n",
              "  </thead>\n",
              "  <tbody>\n",
              "    <tr>\n",
              "      <th>0</th>\n",
              "      <td>1</td>\n",
              "      <td>85</td>\n",
              "      <td>66</td>\n",
              "      <td>29</td>\n",
              "      <td>0</td>\n",
              "      <td>26.6</td>\n",
              "      <td>0.351</td>\n",
              "      <td>31</td>\n",
              "      <td>0</td>\n",
              "    </tr>\n",
              "    <tr>\n",
              "      <th>1</th>\n",
              "      <td>8</td>\n",
              "      <td>183</td>\n",
              "      <td>64</td>\n",
              "      <td>0</td>\n",
              "      <td>0</td>\n",
              "      <td>23.3</td>\n",
              "      <td>0.672</td>\n",
              "      <td>32</td>\n",
              "      <td>1</td>\n",
              "    </tr>\n",
              "    <tr>\n",
              "      <th>2</th>\n",
              "      <td>1</td>\n",
              "      <td>89</td>\n",
              "      <td>66</td>\n",
              "      <td>23</td>\n",
              "      <td>94</td>\n",
              "      <td>28.1</td>\n",
              "      <td>0.167</td>\n",
              "      <td>21</td>\n",
              "      <td>0</td>\n",
              "    </tr>\n",
              "    <tr>\n",
              "      <th>3</th>\n",
              "      <td>0</td>\n",
              "      <td>137</td>\n",
              "      <td>40</td>\n",
              "      <td>35</td>\n",
              "      <td>168</td>\n",
              "      <td>43.1</td>\n",
              "      <td>2.288</td>\n",
              "      <td>33</td>\n",
              "      <td>1</td>\n",
              "    </tr>\n",
              "    <tr>\n",
              "      <th>4</th>\n",
              "      <td>5</td>\n",
              "      <td>116</td>\n",
              "      <td>74</td>\n",
              "      <td>0</td>\n",
              "      <td>0</td>\n",
              "      <td>25.6</td>\n",
              "      <td>0.201</td>\n",
              "      <td>30</td>\n",
              "      <td>0</td>\n",
              "    </tr>\n",
              "    <tr>\n",
              "      <th>...</th>\n",
              "      <td>...</td>\n",
              "      <td>...</td>\n",
              "      <td>...</td>\n",
              "      <td>...</td>\n",
              "      <td>...</td>\n",
              "      <td>...</td>\n",
              "      <td>...</td>\n",
              "      <td>...</td>\n",
              "      <td>...</td>\n",
              "    </tr>\n",
              "    <tr>\n",
              "      <th>762</th>\n",
              "      <td>10</td>\n",
              "      <td>101</td>\n",
              "      <td>76</td>\n",
              "      <td>48</td>\n",
              "      <td>180</td>\n",
              "      <td>32.9</td>\n",
              "      <td>0.171</td>\n",
              "      <td>63</td>\n",
              "      <td>0</td>\n",
              "    </tr>\n",
              "    <tr>\n",
              "      <th>763</th>\n",
              "      <td>2</td>\n",
              "      <td>122</td>\n",
              "      <td>70</td>\n",
              "      <td>27</td>\n",
              "      <td>0</td>\n",
              "      <td>36.8</td>\n",
              "      <td>0.340</td>\n",
              "      <td>27</td>\n",
              "      <td>0</td>\n",
              "    </tr>\n",
              "    <tr>\n",
              "      <th>764</th>\n",
              "      <td>5</td>\n",
              "      <td>121</td>\n",
              "      <td>72</td>\n",
              "      <td>23</td>\n",
              "      <td>112</td>\n",
              "      <td>26.2</td>\n",
              "      <td>0.245</td>\n",
              "      <td>30</td>\n",
              "      <td>0</td>\n",
              "    </tr>\n",
              "    <tr>\n",
              "      <th>765</th>\n",
              "      <td>1</td>\n",
              "      <td>126</td>\n",
              "      <td>60</td>\n",
              "      <td>0</td>\n",
              "      <td>0</td>\n",
              "      <td>30.1</td>\n",
              "      <td>0.349</td>\n",
              "      <td>47</td>\n",
              "      <td>1</td>\n",
              "    </tr>\n",
              "    <tr>\n",
              "      <th>766</th>\n",
              "      <td>1</td>\n",
              "      <td>93</td>\n",
              "      <td>70</td>\n",
              "      <td>31</td>\n",
              "      <td>0</td>\n",
              "      <td>30.4</td>\n",
              "      <td>0.315</td>\n",
              "      <td>23</td>\n",
              "      <td>0</td>\n",
              "    </tr>\n",
              "  </tbody>\n",
              "</table>\n",
              "<p>767 rows × 9 columns</p>\n",
              "</div>\n",
              "      <button class=\"colab-df-convert\" onclick=\"convertToInteractive('df-a99d6743-6e9b-4abe-ac5c-3e4dfd00a6ee')\"\n",
              "              title=\"Convert this dataframe to an interactive table.\"\n",
              "              style=\"display:none;\">\n",
              "        \n",
              "  <svg xmlns=\"http://www.w3.org/2000/svg\" height=\"24px\"viewBox=\"0 0 24 24\"\n",
              "       width=\"24px\">\n",
              "    <path d=\"M0 0h24v24H0V0z\" fill=\"none\"/>\n",
              "    <path d=\"M18.56 5.44l.94 2.06.94-2.06 2.06-.94-2.06-.94-.94-2.06-.94 2.06-2.06.94zm-11 1L8.5 8.5l.94-2.06 2.06-.94-2.06-.94L8.5 2.5l-.94 2.06-2.06.94zm10 10l.94 2.06.94-2.06 2.06-.94-2.06-.94-.94-2.06-.94 2.06-2.06.94z\"/><path d=\"M17.41 7.96l-1.37-1.37c-.4-.4-.92-.59-1.43-.59-.52 0-1.04.2-1.43.59L10.3 9.45l-7.72 7.72c-.78.78-.78 2.05 0 2.83L4 21.41c.39.39.9.59 1.41.59.51 0 1.02-.2 1.41-.59l7.78-7.78 2.81-2.81c.8-.78.8-2.07 0-2.86zM5.41 20L4 18.59l7.72-7.72 1.47 1.35L5.41 20z\"/>\n",
              "  </svg>\n",
              "      </button>\n",
              "      \n",
              "  <style>\n",
              "    .colab-df-container {\n",
              "      display:flex;\n",
              "      flex-wrap:wrap;\n",
              "      gap: 12px;\n",
              "    }\n",
              "\n",
              "    .colab-df-convert {\n",
              "      background-color: #E8F0FE;\n",
              "      border: none;\n",
              "      border-radius: 50%;\n",
              "      cursor: pointer;\n",
              "      display: none;\n",
              "      fill: #1967D2;\n",
              "      height: 32px;\n",
              "      padding: 0 0 0 0;\n",
              "      width: 32px;\n",
              "    }\n",
              "\n",
              "    .colab-df-convert:hover {\n",
              "      background-color: #E2EBFA;\n",
              "      box-shadow: 0px 1px 2px rgba(60, 64, 67, 0.3), 0px 1px 3px 1px rgba(60, 64, 67, 0.15);\n",
              "      fill: #174EA6;\n",
              "    }\n",
              "\n",
              "    [theme=dark] .colab-df-convert {\n",
              "      background-color: #3B4455;\n",
              "      fill: #D2E3FC;\n",
              "    }\n",
              "\n",
              "    [theme=dark] .colab-df-convert:hover {\n",
              "      background-color: #434B5C;\n",
              "      box-shadow: 0px 1px 3px 1px rgba(0, 0, 0, 0.15);\n",
              "      filter: drop-shadow(0px 1px 2px rgba(0, 0, 0, 0.3));\n",
              "      fill: #FFFFFF;\n",
              "    }\n",
              "  </style>\n",
              "\n",
              "      <script>\n",
              "        const buttonEl =\n",
              "          document.querySelector('#df-a99d6743-6e9b-4abe-ac5c-3e4dfd00a6ee button.colab-df-convert');\n",
              "        buttonEl.style.display =\n",
              "          google.colab.kernel.accessAllowed ? 'block' : 'none';\n",
              "\n",
              "        async function convertToInteractive(key) {\n",
              "          const element = document.querySelector('#df-a99d6743-6e9b-4abe-ac5c-3e4dfd00a6ee');\n",
              "          const dataTable =\n",
              "            await google.colab.kernel.invokeFunction('convertToInteractive',\n",
              "                                                     [key], {});\n",
              "          if (!dataTable) return;\n",
              "\n",
              "          const docLinkHtml = 'Like what you see? Visit the ' +\n",
              "            '<a target=\"_blank\" href=https://colab.research.google.com/notebooks/data_table.ipynb>data table notebook</a>'\n",
              "            + ' to learn more about interactive tables.';\n",
              "          element.innerHTML = '';\n",
              "          dataTable['output_type'] = 'display_data';\n",
              "          await google.colab.output.renderOutput(dataTable, element);\n",
              "          const docLink = document.createElement('div');\n",
              "          docLink.innerHTML = docLinkHtml;\n",
              "          element.appendChild(docLink);\n",
              "        }\n",
              "      </script>\n",
              "    </div>\n",
              "  </div>\n",
              "  "
            ]
          },
          "metadata": {},
          "execution_count": 2
        }
      ]
    },
    {
      "cell_type": "code",
      "source": [
        "df.isnull().sum()"
      ],
      "metadata": {
        "colab": {
          "base_uri": "https://localhost:8080/"
        },
        "id": "l6hL08n3_cf5",
        "outputId": "6876e707-6078-4c86-c7be-944ce2bd46d1"
      },
      "execution_count": 3,
      "outputs": [
        {
          "output_type": "execute_result",
          "data": {
            "text/plain": [
              "Pregnancies      0\n",
              "Glucose          0\n",
              "BloodPressure    0\n",
              "SkinThickness    0\n",
              "Insulin          0\n",
              "BMI              0\n",
              "DiabtPediFn      0\n",
              "Age              0\n",
              "Outcome          0\n",
              "dtype: int64"
            ]
          },
          "metadata": {},
          "execution_count": 3
        }
      ]
    },
    {
      "cell_type": "code",
      "source": [
        "from sklearn.model_selection import train_test_split\n",
        "\n",
        "x_train,x_test,y_train,y_test = train_test_split(df.drop(columns='Outcome').values,df['Outcome'].values,test_size=0.2)"
      ],
      "metadata": {
        "id": "shnvaCnyAJJr"
      },
      "execution_count": 4,
      "outputs": []
    },
    {
      "cell_type": "code",
      "source": [
        "len(x_train),len(x_test)"
      ],
      "metadata": {
        "colab": {
          "base_uri": "https://localhost:8080/"
        },
        "id": "TxPiSTHwCN0b",
        "outputId": "b6c1dba6-42fd-41db-890d-05e6c8059641"
      },
      "execution_count": 5,
      "outputs": [
        {
          "output_type": "execute_result",
          "data": {
            "text/plain": [
              "(613, 154)"
            ]
          },
          "metadata": {},
          "execution_count": 5
        }
      ]
    },
    {
      "cell_type": "code",
      "source": [
        "# Libraries from Pytorch\n",
        "import torch\n",
        "import torch.nn as nn\n",
        "import torch.nn.functional as F"
      ],
      "metadata": {
        "id": "7vWFlXjICgqz"
      },
      "execution_count": 6,
      "outputs": []
    },
    {
      "cell_type": "code",
      "source": [
        "x_train = torch.FloatTensor(x_train)\n",
        "x_test = torch.FloatTensor(x_test)"
      ],
      "metadata": {
        "id": "InYGMHHEHjoM"
      },
      "execution_count": 7,
      "outputs": []
    },
    {
      "cell_type": "code",
      "source": [
        "y_train = torch.LongTensor(y_train)\n",
        "y_test = torch.LongTensor(y_test)"
      ],
      "metadata": {
        "id": "m2i1HbXCH7iP"
      },
      "execution_count": 8,
      "outputs": []
    },
    {
      "cell_type": "code",
      "source": [
        "# Creating Model with Pytorch\n",
        "\n",
        "class ANN_Model(nn.Module):\n",
        "  def __init__(self,input_features=8,hidden1=20,hidden2=20,out_features=2):\n",
        "    super().__init__()\n",
        "    self.f_connected1=nn.Linear(input_features,hidden1)\n",
        "    self.f_connected2=nn.Linear(hidden1,hidden2)\n",
        "    self.out=nn.Linear(hidden2,out_features)\n",
        "  def forward(self,x):\n",
        "    x=F.relu(self.f_connected1(x))\n",
        "    x=F.relu(self.f_connected2(x))\n",
        "    x=self.out(x)\n",
        "    return x\n"
      ],
      "metadata": {
        "id": "gxdRLFbFIfyB"
      },
      "execution_count": 9,
      "outputs": []
    },
    {
      "cell_type": "code",
      "source": [
        "# Instantiate the ANN_Model\n",
        "\n",
        "torch.manual_seed(20)\n",
        "model = ANN_Model()"
      ],
      "metadata": {
        "id": "pzdJuShDY2xD"
      },
      "execution_count": 10,
      "outputs": []
    },
    {
      "cell_type": "code",
      "source": [
        "model.parameters"
      ],
      "metadata": {
        "colab": {
          "base_uri": "https://localhost:8080/"
        },
        "id": "8prcLALqZH8a",
        "outputId": "0e2e2892-181b-4897-b4ef-7c663ed03804"
      },
      "execution_count": 11,
      "outputs": [
        {
          "output_type": "execute_result",
          "data": {
            "text/plain": [
              "<bound method Module.parameters of ANN_Model(\n",
              "  (f_connected1): Linear(in_features=8, out_features=20, bias=True)\n",
              "  (f_connected2): Linear(in_features=20, out_features=20, bias=True)\n",
              "  (out): Linear(in_features=20, out_features=2, bias=True)\n",
              ")>"
            ]
          },
          "metadata": {},
          "execution_count": 11
        }
      ]
    },
    {
      "cell_type": "code",
      "source": [
        "# Backward Propagation -> Define the Loss Function, define the optimizer\n",
        "\n",
        "loss_function=nn.CrossEntropyLoss()\n",
        "optimizer=torch.optim.Adam(model.parameters(),lr=0.01)"
      ],
      "metadata": {
        "id": "aJXMc1BxZiP5"
      },
      "execution_count": 12,
      "outputs": []
    },
    {
      "cell_type": "code",
      "source": [
        "epochs = 500\n",
        "final_losses = []\n",
        "for i in range(epochs):\n",
        "  i+=1\n",
        "  y_pred=model.forward(x_train)\n",
        "  loss=loss_function(y_pred,y_train)\n",
        "  final_losses.append(loss)\n",
        "  if i%10==1:\n",
        "    print(f\"Epoch number is {i} and loss is {loss.item()}\")\n",
        "  optimizer.zero_grad()\n",
        "  loss.backward()\n",
        "  optimizer.step()"
      ],
      "metadata": {
        "colab": {
          "base_uri": "https://localhost:8080/"
        },
        "id": "NsqspZa9aPsg",
        "outputId": "a85dbf65-5bb1-4add-8cc3-d31ccc33894f"
      },
      "execution_count": 13,
      "outputs": [
        {
          "output_type": "stream",
          "name": "stdout",
          "text": [
            "Epoch number is 1 and loss is 3.4807727336883545\n",
            "Epoch number is 11 and loss is 0.8023028373718262\n",
            "Epoch number is 21 and loss is 0.6029462814331055\n",
            "Epoch number is 31 and loss is 0.6037801504135132\n",
            "Epoch number is 41 and loss is 0.5773135423660278\n",
            "Epoch number is 51 and loss is 0.5676068067550659\n",
            "Epoch number is 61 and loss is 0.5604088306427002\n",
            "Epoch number is 71 and loss is 0.5537647008895874\n",
            "Epoch number is 81 and loss is 0.5478284358978271\n",
            "Epoch number is 91 and loss is 0.5421877503395081\n",
            "Epoch number is 101 and loss is 0.5362045764923096\n",
            "Epoch number is 111 and loss is 0.5299442410469055\n",
            "Epoch number is 121 and loss is 0.5235754251480103\n",
            "Epoch number is 131 and loss is 0.5170985460281372\n",
            "Epoch number is 141 and loss is 0.510776162147522\n",
            "Epoch number is 151 and loss is 0.5045726895332336\n",
            "Epoch number is 161 and loss is 0.49813932180404663\n",
            "Epoch number is 171 and loss is 0.49180760979652405\n",
            "Epoch number is 181 and loss is 0.4848647117614746\n",
            "Epoch number is 191 and loss is 0.4779245853424072\n",
            "Epoch number is 201 and loss is 0.47151076793670654\n",
            "Epoch number is 211 and loss is 0.46926555037498474\n",
            "Epoch number is 221 and loss is 0.47085660696029663\n",
            "Epoch number is 231 and loss is 0.4579814374446869\n",
            "Epoch number is 241 and loss is 0.4588276445865631\n",
            "Epoch number is 251 and loss is 0.44758349657058716\n",
            "Epoch number is 261 and loss is 0.4422433078289032\n",
            "Epoch number is 271 and loss is 0.4319187104701996\n",
            "Epoch number is 281 and loss is 0.4490666687488556\n",
            "Epoch number is 291 and loss is 0.43008995056152344\n",
            "Epoch number is 301 and loss is 0.4369848370552063\n",
            "Epoch number is 311 and loss is 0.4175843298435211\n",
            "Epoch number is 321 and loss is 0.41169464588165283\n",
            "Epoch number is 331 and loss is 0.42112892866134644\n",
            "Epoch number is 341 and loss is 0.404598206281662\n",
            "Epoch number is 351 and loss is 0.4463539719581604\n",
            "Epoch number is 361 and loss is 0.41434115171432495\n",
            "Epoch number is 371 and loss is 0.41036370396614075\n",
            "Epoch number is 381 and loss is 0.3983686566352844\n",
            "Epoch number is 391 and loss is 0.39223188161849976\n",
            "Epoch number is 401 and loss is 0.4166707992553711\n",
            "Epoch number is 411 and loss is 0.4034309685230255\n",
            "Epoch number is 421 and loss is 0.37807008624076843\n",
            "Epoch number is 431 and loss is 0.3819163739681244\n",
            "Epoch number is 441 and loss is 0.3896998465061188\n",
            "Epoch number is 451 and loss is 0.3833868205547333\n",
            "Epoch number is 461 and loss is 0.37416189908981323\n",
            "Epoch number is 471 and loss is 0.37835201621055603\n",
            "Epoch number is 481 and loss is 0.3826569616794586\n",
            "Epoch number is 491 and loss is 0.36454159021377563\n"
          ]
        }
      ]
    },
    {
      "cell_type": "code",
      "source": [
        "# Plot the loss Function\n",
        "\n",
        "import matplotlib.pyplot as plt\n",
        "%matplotlib inline"
      ],
      "metadata": {
        "id": "Fa9Bf7CCbZk1"
      },
      "execution_count": 14,
      "outputs": []
    },
    {
      "cell_type": "code",
      "source": [
        "final = []\n",
        "for i in range(500):\n",
        "  final.append(final_losses[i].item())\n",
        "final"
      ],
      "metadata": {
        "colab": {
          "base_uri": "https://localhost:8080/"
        },
        "id": "ECQWk6Xwez0B",
        "outputId": "2a303e99-6bbb-44e8-f6d9-0fb5c3a9b0d2"
      },
      "execution_count": 15,
      "outputs": [
        {
          "output_type": "execute_result",
          "data": {
            "text/plain": [
              "[3.4807727336883545,\n",
              " 1.7707997560501099,\n",
              " 1.4970016479492188,\n",
              " 0.8448533415794373,\n",
              " 1.1600475311279297,\n",
              " 0.9219914674758911,\n",
              " 0.7051728963851929,\n",
              " 0.8488895893096924,\n",
              " 0.6959052085876465,\n",
              " 0.6736966967582703,\n",
              " 0.8023028373718262,\n",
              " 0.7202492952346802,\n",
              " 0.6281365752220154,\n",
              " 0.6773499250411987,\n",
              " 0.6875470876693726,\n",
              " 0.6259914040565491,\n",
              " 0.6262354850769043,\n",
              " 0.6647668480873108,\n",
              " 0.6547225117683411,\n",
              " 0.6074913144111633,\n",
              " 0.6029462814331055,\n",
              " 0.6332513689994812,\n",
              " 0.6334794163703918,\n",
              " 0.6091256141662598,\n",
              " 0.6020022630691528,\n",
              " 0.6170691847801208,\n",
              " 0.6157015562057495,\n",
              " 0.5947453379631042,\n",
              " 0.5887085795402527,\n",
              " 0.6013475060462952,\n",
              " 0.6037801504135132,\n",
              " 0.5911182165145874,\n",
              " 0.5859103798866272,\n",
              " 0.5915413498878479,\n",
              " 0.5904940366744995,\n",
              " 0.5818472504615784,\n",
              " 0.5807263851165771,\n",
              " 0.5863123536109924,\n",
              " 0.5847545266151428,\n",
              " 0.577885627746582,\n",
              " 0.5773135423660278,\n",
              " 0.5802034735679626,\n",
              " 0.5778574347496033,\n",
              " 0.574033796787262,\n",
              " 0.5744867920875549,\n",
              " 0.5747776031494141,\n",
              " 0.5713589787483215,\n",
              " 0.5693620443344116,\n",
              " 0.5707253217697144,\n",
              " 0.570256769657135,\n",
              " 0.5676068067550659,\n",
              " 0.5671281218528748,\n",
              " 0.5677123665809631,\n",
              " 0.5660771131515503,\n",
              " 0.5642738342285156,\n",
              " 0.564328134059906,\n",
              " 0.5636724829673767,\n",
              " 0.5619787573814392,\n",
              " 0.5615807175636292,\n",
              " 0.5616127252578735,\n",
              " 0.5604088306427002,\n",
              " 0.5593590140342712,\n",
              " 0.5591282248497009,\n",
              " 0.5583128333091736,\n",
              " 0.5572364330291748,\n",
              " 0.5569237470626831,\n",
              " 0.5565402507781982,\n",
              " 0.5555207133293152,\n",
              " 0.5549818277359009,\n",
              " 0.5546082854270935,\n",
              " 0.5537647008895874,\n",
              " 0.5530731678009033,\n",
              " 0.5526966452598572,\n",
              " 0.55195552110672,\n",
              " 0.5512112975120544,\n",
              " 0.5508133172988892,\n",
              " 0.5501952767372131,\n",
              " 0.5494799017906189,\n",
              " 0.5490053296089172,\n",
              " 0.5484601259231567,\n",
              " 0.5478284358978271,\n",
              " 0.5473082661628723,\n",
              " 0.5467207431793213,\n",
              " 0.5460957884788513,\n",
              " 0.545565128326416,\n",
              " 0.5450047850608826,\n",
              " 0.5444061756134033,\n",
              " 0.5438871383666992,\n",
              " 0.5433198809623718,\n",
              " 0.5427190661430359,\n",
              " 0.5421877503395081,\n",
              " 0.5416475534439087,\n",
              " 0.5410324335098267,\n",
              " 0.5404874086380005,\n",
              " 0.539854109287262,\n",
              " 0.5392217040061951,\n",
              " 0.5385538935661316,\n",
              " 0.5379000306129456,\n",
              " 0.5373674631118774,\n",
              " 0.5368568301200867,\n",
              " 0.5362045764923096,\n",
              " 0.5355350375175476,\n",
              " 0.5348879098892212,\n",
              " 0.534323513507843,\n",
              " 0.5337306261062622,\n",
              " 0.5330975651741028,\n",
              " 0.5324445962905884,\n",
              " 0.5317924618721008,\n",
              " 0.5311986207962036,\n",
              " 0.5306100845336914,\n",
              " 0.5299442410469055,\n",
              " 0.529289722442627,\n",
              " 0.5286223292350769,\n",
              " 0.5279783606529236,\n",
              " 0.5273553133010864,\n",
              " 0.5266995429992676,\n",
              " 0.5260591506958008,\n",
              " 0.5254238247871399,\n",
              " 0.5248090028762817,\n",
              " 0.5241739749908447,\n",
              " 0.5235754251480103,\n",
              " 0.5229030251502991,\n",
              " 0.5222241282463074,\n",
              " 0.5216156840324402,\n",
              " 0.5209650993347168,\n",
              " 0.5203449130058289,\n",
              " 0.5197149515151978,\n",
              " 0.5190695524215698,\n",
              " 0.5184048414230347,\n",
              " 0.5177360773086548,\n",
              " 0.5170985460281372,\n",
              " 0.5164154767990112,\n",
              " 0.5157259702682495,\n",
              " 0.5150782465934753,\n",
              " 0.5144433379173279,\n",
              " 0.5138354301452637,\n",
              " 0.5131919384002686,\n",
              " 0.5126070976257324,\n",
              " 0.511986494064331,\n",
              " 0.5113825798034668,\n",
              " 0.510776162147522,\n",
              " 0.5101490616798401,\n",
              " 0.5094884634017944,\n",
              " 0.5088404417037964,\n",
              " 0.508243203163147,\n",
              " 0.5076853632926941,\n",
              " 0.5070566534996033,\n",
              " 0.5064137578010559,\n",
              " 0.5057926177978516,\n",
              " 0.5052279829978943,\n",
              " 0.5045726895332336,\n",
              " 0.5039881467819214,\n",
              " 0.503290057182312,\n",
              " 0.5026381611824036,\n",
              " 0.5020180940628052,\n",
              " 0.5013631582260132,\n",
              " 0.5007441639900208,\n",
              " 0.5000318884849548,\n",
              " 0.49953487515449524,\n",
              " 0.4987260401248932,\n",
              " 0.49813932180404663,\n",
              " 0.4974433481693268,\n",
              " 0.4968215525150299,\n",
              " 0.49609896540641785,\n",
              " 0.49557265639305115,\n",
              " 0.49479225277900696,\n",
              " 0.49413424730300903,\n",
              " 0.4935457706451416,\n",
              " 0.4927513599395752,\n",
              " 0.4931158125400543,\n",
              " 0.49180760979652405,\n",
              " 0.4910438656806946,\n",
              " 0.49056515097618103,\n",
              " 0.4898856282234192,\n",
              " 0.4888574481010437,\n",
              " 0.48850521445274353,\n",
              " 0.4877655804157257,\n",
              " 0.4871666431427002,\n",
              " 0.48619604110717773,\n",
              " 0.48572254180908203,\n",
              " 0.4848647117614746,\n",
              " 0.48460012674331665,\n",
              " 0.4836219251155853,\n",
              " 0.4830054044723511,\n",
              " 0.48239824175834656,\n",
              " 0.4816048741340637,\n",
              " 0.4809378683567047,\n",
              " 0.48033198714256287,\n",
              " 0.47954609990119934,\n",
              " 0.4786379337310791,\n",
              " 0.4779245853424072,\n",
              " 0.4773135483264923,\n",
              " 0.47662627696990967,\n",
              " 0.4760034680366516,\n",
              " 0.4756428003311157,\n",
              " 0.47483712434768677,\n",
              " 0.4761466085910797,\n",
              " 0.47470277547836304,\n",
              " 0.47316813468933105,\n",
              " 0.47262802720069885,\n",
              " 0.47151076793670654,\n",
              " 0.47127389907836914,\n",
              " 0.47049832344055176,\n",
              " 0.4705658257007599,\n",
              " 0.4739903509616852,\n",
              " 0.4834417402744293,\n",
              " 0.4876786172389984,\n",
              " 0.4817414879798889,\n",
              " 0.47189703583717346,\n",
              " 0.46548721194267273,\n",
              " 0.46926555037498474,\n",
              " 0.47661736607551575,\n",
              " 0.4791352450847626,\n",
              " 0.4713902473449707,\n",
              " 0.46375712752342224,\n",
              " 0.4651980996131897,\n",
              " 0.4732721745967865,\n",
              " 0.47133493423461914,\n",
              " 0.46611925959587097,\n",
              " 0.46071141958236694,\n",
              " 0.47085660696029663,\n",
              " 0.47921767830848694,\n",
              " 0.4715234041213989,\n",
              " 0.46210044622421265,\n",
              " 0.45973682403564453,\n",
              " 0.4606322646141052,\n",
              " 0.4592432379722595,\n",
              " 0.4526745676994324,\n",
              " 0.4525650441646576,\n",
              " 0.4553465247154236,\n",
              " 0.4579814374446869,\n",
              " 0.4558256268501282,\n",
              " 0.4604608118534088,\n",
              " 0.454326331615448,\n",
              " 0.4529491662979126,\n",
              " 0.45040038228034973,\n",
              " 0.45058298110961914,\n",
              " 0.4566306471824646,\n",
              " 0.4562828838825226,\n",
              " 0.4602440595626831,\n",
              " 0.4588276445865631,\n",
              " 0.45055240392684937,\n",
              " 0.4452802538871765,\n",
              " 0.4457373023033142,\n",
              " 0.4429472088813782,\n",
              " 0.4489545524120331,\n",
              " 0.4585060477256775,\n",
              " 0.4764441251754761,\n",
              " 0.48501157760620117,\n",
              " 0.4660549461841583,\n",
              " 0.44758349657058716,\n",
              " 0.4755987823009491,\n",
              " 0.4680294692516327,\n",
              " 0.4537796676158905,\n",
              " 0.45402005314826965,\n",
              " 0.46853163838386536,\n",
              " 0.46007534861564636,\n",
              " 0.4463024139404297,\n",
              " 0.45712873339653015,\n",
              " 0.4533524513244629,\n",
              " 0.4422433078289032,\n",
              " 0.4524192214012146,\n",
              " 0.46010062098503113,\n",
              " 0.45215681195259094,\n",
              " 0.4412010908126831,\n",
              " 0.44002166390419006,\n",
              " 0.44758594036102295,\n",
              " 0.4500785171985626,\n",
              " 0.4450628459453583,\n",
              " 0.43557390570640564,\n",
              " 0.4319187104701996,\n",
              " 0.4354252517223358,\n",
              " 0.4412175118923187,\n",
              " 0.44641855359077454,\n",
              " 0.44350841641426086,\n",
              " 0.4351859390735626,\n",
              " 0.43012765049934387,\n",
              " 0.43640056252479553,\n",
              " 0.4489976167678833,\n",
              " 0.45451492071151733,\n",
              " 0.4490666687488556,\n",
              " 0.42915645241737366,\n",
              " 0.4322773218154907,\n",
              " 0.45055535435676575,\n",
              " 0.4572155475616455,\n",
              " 0.4538945257663727,\n",
              " 0.4289921224117279,\n",
              " 0.4402789771556854,\n",
              " 0.46823522448539734,\n",
              " 0.45337024331092834,\n",
              " 0.43008995056152344,\n",
              " 0.4383947551250458,\n",
              " 0.4427363872528076,\n",
              " 0.4291066825389862,\n",
              " 0.42512428760528564,\n",
              " 0.4346548020839691,\n",
              " 0.43558022379875183,\n",
              " 0.42323097586631775,\n",
              " 0.42677339911460876,\n",
              " 0.4412962794303894,\n",
              " 0.4369848370552063,\n",
              " 0.42335426807403564,\n",
              " 0.422036349773407,\n",
              " 0.430509090423584,\n",
              " 0.4335498511791229,\n",
              " 0.4235633313655853,\n",
              " 0.4160864055156708,\n",
              " 0.42122766375541687,\n",
              " 0.42178624868392944,\n",
              " 0.4207814037799835,\n",
              " 0.4175843298435211,\n",
              " 0.4143907427787781,\n",
              " 0.4151640832424164,\n",
              " 0.41740426421165466,\n",
              " 0.4175657331943512,\n",
              " 0.4160362780094147,\n",
              " 0.41474393010139465,\n",
              " 0.41165968775749207,\n",
              " 0.41078683733940125,\n",
              " 0.41139474511146545,\n",
              " 0.41169464588165283,\n",
              " 0.41375061869621277,\n",
              " 0.41392984986305237,\n",
              " 0.4141712784767151,\n",
              " 0.415457159280777,\n",
              " 0.4152531921863556,\n",
              " 0.41543707251548767,\n",
              " 0.4146503210067749,\n",
              " 0.41580358147621155,\n",
              " 0.41736289858818054,\n",
              " 0.42112892866134644,\n",
              " 0.4229549169540405,\n",
              " 0.41683122515678406,\n",
              " 0.41039663553237915,\n",
              " 0.4067550003528595,\n",
              " 0.4042968153953552,\n",
              " 0.40326401591300964,\n",
              " 0.40241384506225586,\n",
              " 0.4024786353111267,\n",
              " 0.40309715270996094,\n",
              " 0.404598206281662,\n",
              " 0.4097040295600891,\n",
              " 0.42091870307922363,\n",
              " 0.4420723617076874,\n",
              " 0.4736193120479584,\n",
              " 0.4660095274448395,\n",
              " 0.42716649174690247,\n",
              " 0.4030812382698059,\n",
              " 0.4385742247104645,\n",
              " 0.4754086136817932,\n",
              " 0.4463539719581604,\n",
              " 0.4194098114967346,\n",
              " 0.4333610534667969,\n",
              " 0.43790948390960693,\n",
              " 0.4265802204608917,\n",
              " 0.4041147530078888,\n",
              " 0.40891826152801514,\n",
              " 0.4161461293697357,\n",
              " 0.4044592082500458,\n",
              " 0.40240350365638733,\n",
              " 0.41434115171432495,\n",
              " 0.41746047139167786,\n",
              " 0.4081268310546875,\n",
              " 0.39777833223342896,\n",
              " 0.40788981318473816,\n",
              " 0.41717639565467834,\n",
              " 0.4104156494140625,\n",
              " 0.4005809426307678,\n",
              " 0.39808353781700134,\n",
              " 0.4057486951351166,\n",
              " 0.41036370396614075,\n",
              " 0.4017331898212433,\n",
              " 0.39759334921836853,\n",
              " 0.3947565257549286,\n",
              " 0.4001332223415375,\n",
              " 0.4029615819454193,\n",
              " 0.39632269740104675,\n",
              " 0.39392203092575073,\n",
              " 0.39247509837150574,\n",
              " 0.3948771357536316,\n",
              " 0.3983686566352844,\n",
              " 0.39709922671318054,\n",
              " 0.39701297879219055,\n",
              " 0.39112845063209534,\n",
              " 0.38895848393440247,\n",
              " 0.38997188210487366,\n",
              " 0.39197373390197754,\n",
              " 0.3959813714027405,\n",
              " 0.3958926796913147,\n",
              " 0.39469823241233826,\n",
              " 0.39223188161849976,\n",
              " 0.3892919719219208,\n",
              " 0.3865888714790344,\n",
              " 0.3857479393482208,\n",
              " 0.386401504278183,\n",
              " 0.3877080976963043,\n",
              " 0.39194923639297485,\n",
              " 0.3986888527870178,\n",
              " 0.40783604979515076,\n",
              " 0.4146484434604645,\n",
              " 0.4166707992553711,\n",
              " 0.4070967733860016,\n",
              " 0.3968279957771301,\n",
              " 0.38995862007141113,\n",
              " 0.38396888971328735,\n",
              " 0.38318559527397156,\n",
              " 0.3847982883453369,\n",
              " 0.3890201449394226,\n",
              " 0.39280351996421814,\n",
              " 0.39965686202049255,\n",
              " 0.4034309685230255,\n",
              " 0.4039999842643738,\n",
              " 0.4007840156555176,\n",
              " 0.3950786292552948,\n",
              " 0.38900646567344666,\n",
              " 0.38473111391067505,\n",
              " 0.3816544711589813,\n",
              " 0.3796222507953644,\n",
              " 0.3790559768676758,\n",
              " 0.3784981071949005,\n",
              " 0.37807008624076843,\n",
              " 0.3779620826244354,\n",
              " 0.37848013639450073,\n",
              " 0.38003188371658325,\n",
              " 0.38567301630973816,\n",
              " 0.4000508487224579,\n",
              " 0.4279288947582245,\n",
              " 0.44053882360458374,\n",
              " 0.44115638732910156,\n",
              " 0.4122854173183441,\n",
              " 0.3819163739681244,\n",
              " 0.38412564992904663,\n",
              " 0.4141511023044586,\n",
              " 0.44471871852874756,\n",
              " 0.4279954433441162,\n",
              " 0.39193764328956604,\n",
              " 0.3994554281234741,\n",
              " 0.4264061450958252,\n",
              " 0.43187350034713745,\n",
              " 0.40693172812461853,\n",
              " 0.3896998465061188,\n",
              " 0.4031117856502533,\n",
              " 0.4132841229438782,\n",
              " 0.4090210199356079,\n",
              " 0.3916740119457245,\n",
              " 0.38486698269844055,\n",
              " 0.386445552110672,\n",
              " 0.39585748314857483,\n",
              " 0.38784313201904297,\n",
              " 0.37831199169158936,\n",
              " 0.3833868205547333,\n",
              " 0.38157859444618225,\n",
              " 0.38236403465270996,\n",
              " 0.38042914867401123,\n",
              " 0.3741607964038849,\n",
              " 0.3776620626449585,\n",
              " 0.3793764114379883,\n",
              " 0.37662994861602783,\n",
              " 0.3743061125278473,\n",
              " 0.37406453490257263,\n",
              " 0.37416189908981323,\n",
              " 0.37513765692710876,\n",
              " 0.3758985698223114,\n",
              " 0.3722474277019501,\n",
              " 0.3724653720855713,\n",
              " 0.3720020055770874,\n",
              " 0.37082698941230774,\n",
              " 0.37280869483947754,\n",
              " 0.375261515378952,\n",
              " 0.3763836920261383,\n",
              " 0.37835201621055603,\n",
              " 0.37920936942100525,\n",
              " 0.37929901480674744,\n",
              " 0.37843698263168335,\n",
              " 0.3766970932483673,\n",
              " 0.3749774396419525,\n",
              " 0.37534382939338684,\n",
              " 0.37620413303375244,\n",
              " 0.37872764468193054,\n",
              " 0.38176944851875305,\n",
              " 0.3826569616794586,\n",
              " 0.3826846778392792,\n",
              " 0.38434964418411255,\n",
              " 0.38089704513549805,\n",
              " 0.3767232596874237,\n",
              " 0.3718823194503784,\n",
              " 0.3685425817966461,\n",
              " 0.36599934101104736,\n",
              " 0.36399954557418823,\n",
              " 0.3636508584022522,\n",
              " 0.36454159021377563,\n",
              " 0.36514824628829956,\n",
              " 0.3656798303127289,\n",
              " 0.36882734298706055,\n",
              " 0.3718092739582062,\n",
              " 0.3780224621295929,\n",
              " 0.3887696862220764,\n",
              " 0.4101238250732422,\n",
              " 0.427849680185318,\n",
              " 0.4408148229122162]"
            ]
          },
          "metadata": {},
          "execution_count": 15
        }
      ]
    },
    {
      "cell_type": "code",
      "source": [
        "\n",
        "plt.plot(range(epochs),final)\n",
        "plt.ylabel('Loss')\n",
        "plt.xlabel('Epochs')\n",
        "plt.show()"
      ],
      "metadata": {
        "colab": {
          "base_uri": "https://localhost:8080/",
          "height": 279
        },
        "id": "d-HFI3nKb113",
        "outputId": "ddf38ad0-58f8-407b-c030-997221dd558c"
      },
      "execution_count": 16,
      "outputs": [
        {
          "output_type": "display_data",
          "data": {
            "text/plain": [
              "<Figure size 432x288 with 1 Axes>"
            ],
            "image/png": "[encoded data removed]"
          },
          "metadata": {
            "needs_background": "light"
          }
        }
      ]
    },
    {
      "cell_type": "code",
      "source": [
        "# Prediction in x_test data\n",
        "predictions = []\n",
        "with torch.no_grad():\n",
        "  for i,data in enumerate(x_test):\n",
        "    predictions.append(model(data).argmax().item())\n",
        "    # print(model(data).argmax().item())"
      ],
      "metadata": {
        "id": "Ql8YtrrHemEp"
      },
      "execution_count": 17,
      "outputs": []
    },
    {
      "cell_type": "code",
      "source": [
        "predictions"
      ],
      "metadata": {
        "colab": {
          "base_uri": "https://localhost:8080/"
        },
        "id": "fNdom42lf-QC",
        "outputId": "4fc08530-c5a3-48d8-fb64-b80160f96a2c"
      },
      "execution_count": 18,
      "outputs": [
        {
          "output_type": "execute_result",
          "data": {
            "text/plain": [
              "[0,\n",
              " 0,\n",
              " 0,\n",
              " 1,\n",
              " 0,\n",
              " 1,\n",
              " 0,\n",
              " 0,\n",
              " 0,\n",
              " 0,\n",
              " 0,\n",
              " 0,\n",
              " 0,\n",
              " 0,\n",
              " 0,\n",
              " 0,\n",
              " 0,\n",
              " 0,\n",
              " 0,\n",
              " 0,\n",
              " 0,\n",
              " 0,\n",
              " 0,\n",
              " 0,\n",
              " 0,\n",
              " 0,\n",
              " 0,\n",
              " 0,\n",
              " 0,\n",
              " 0,\n",
              " 0,\n",
              " 0,\n",
              " 1,\n",
              " 0,\n",
              " 1,\n",
              " 0,\n",
              " 1,\n",
              " 1,\n",
              " 0,\n",
              " 0,\n",
              " 0,\n",
              " 0,\n",
              " 0,\n",
              " 0,\n",
              " 0,\n",
              " 0,\n",
              " 0,\n",
              " 1,\n",
              " 0,\n",
              " 0,\n",
              " 0,\n",
              " 0,\n",
              " 0,\n",
              " 1,\n",
              " 0,\n",
              " 0,\n",
              " 0,\n",
              " 0,\n",
              " 0,\n",
              " 0,\n",
              " 0,\n",
              " 1,\n",
              " 0,\n",
              " 1,\n",
              " 0,\n",
              " 0,\n",
              " 0,\n",
              " 0,\n",
              " 0,\n",
              " 0,\n",
              " 0,\n",
              " 0,\n",
              " 1,\n",
              " 0,\n",
              " 0,\n",
              " 0,\n",
              " 0,\n",
              " 1,\n",
              " 0,\n",
              " 0,\n",
              " 0,\n",
              " 0,\n",
              " 0,\n",
              " 0,\n",
              " 0,\n",
              " 0,\n",
              " 0,\n",
              " 0,\n",
              " 0,\n",
              " 1,\n",
              " 0,\n",
              " 0,\n",
              " 0,\n",
              " 0,\n",
              " 1,\n",
              " 0,\n",
              " 0,\n",
              " 0,\n",
              " 0,\n",
              " 0,\n",
              " 1,\n",
              " 0,\n",
              " 1,\n",
              " 0,\n",
              " 0,\n",
              " 0,\n",
              " 0,\n",
              " 0,\n",
              " 0,\n",
              " 0,\n",
              " 0,\n",
              " 0,\n",
              " 0,\n",
              " 0,\n",
              " 0,\n",
              " 0,\n",
              " 1,\n",
              " 0,\n",
              " 1,\n",
              " 1,\n",
              " 0,\n",
              " 0,\n",
              " 1,\n",
              " 1,\n",
              " 0,\n",
              " 0,\n",
              " 0,\n",
              " 0,\n",
              " 0,\n",
              " 1,\n",
              " 0,\n",
              " 0,\n",
              " 1,\n",
              " 0,\n",
              " 0,\n",
              " 0,\n",
              " 0,\n",
              " 0,\n",
              " 0,\n",
              " 0,\n",
              " 0,\n",
              " 1,\n",
              " 0,\n",
              " 0,\n",
              " 0,\n",
              " 0,\n",
              " 0,\n",
              " 0,\n",
              " 0,\n",
              " 0,\n",
              " 1,\n",
              " 0,\n",
              " 0,\n",
              " 0]"
            ]
          },
          "metadata": {},
          "execution_count": 18
        }
      ]
    },
    {
      "cell_type": "code",
      "source": [
        "from sklearn.metrics import confusion_matrix\n",
        "cn = confusion_matrix(y_test,predictions)\n",
        "cn"
      ],
      "metadata": {
        "colab": {
          "base_uri": "https://localhost:8080/"
        },
        "id": "mEAlGl-WnfcN",
        "outputId": "d803941b-f868-4284-c19f-6a8c61fb2a27"
      },
      "execution_count": 19,
      "outputs": [
        {
          "output_type": "execute_result",
          "data": {
            "text/plain": [
              "array([[95,  5],\n",
              "       [34, 20]])"
            ]
          },
          "metadata": {},
          "execution_count": 19
        }
      ]
    },
    {
      "cell_type": "code",
      "source": [
        "plt.figure(figsize=(10,6))\n",
        "import seaborn as sns\n",
        "sns.heatmap(cn,annot=True)\n",
        "plt.xlabel(\"Actual Value\")\n",
        "plt.ylabel(\"Predicted Value\")"
      ],
      "metadata": {
        "colab": {
          "base_uri": "https://localhost:8080/",
          "height": 405
        },
        "id": "Sr0vR7-q-uWd",
        "outputId": "58973518-ee84-4ad8-bb89-f433e4c4f0c5"
      },
      "execution_count": 20,
      "outputs": [
        {
          "output_type": "execute_result",
          "data": {
            "text/plain": [
              "Text(69.0, 0.5, 'Predicted Value')"
            ]
          },
          "metadata": {},
          "execution_count": 20
        },
        {
          "output_type": "display_data",
          "data": {
            "text/plain": [
              "<Figure size 720x432 with 2 Axes>"
            ],
            "image/png": "[encoded data removed]"
          },
          "metadata": {
            "needs_background": "light"
          }
        }
      ]
    },
    {
      "cell_type": "code",
      "source": [
        "from sklearn.metrics import accuracy_score\n",
        "\n",
        "accuracy_score(y_test,predictions)"
      ],
      "metadata": {
        "colab": {
          "base_uri": "https://localhost:8080/"
        },
        "id": "aSKVYQL4_Amz",
        "outputId": "cf0ab758-6f1f-4dd9-d0a0-fe289fef2094"
      },
      "execution_count": 21,
      "outputs": [
        {
          "output_type": "execute_result",
          "data": {
            "text/plain": [
              "0.7467532467532467"
            ]
          },
          "metadata": {},
          "execution_count": 21
        }
      ]
    },
    {
      "cell_type": "markdown",
      "source": [
        "**Save and Load Model**"
      ],
      "metadata": {
        "id": "NsdcfaVh_kPy"
      }
    },
    {
      "cell_type": "code",
      "source": [
        "#  Save the Model\n",
        "torch.save(model,'diabetes_model.pth')"
      ],
      "metadata": {
        "id": "9GjyNMRgBGdY"
      },
      "execution_count": 23,
      "outputs": []
    },
    {
      "cell_type": "code",
      "source": [
        "# Load the model\n",
        "\n",
        "Loaded_model = torch.load('diabetes_model.pth')"
      ],
      "metadata": {
        "id": "IVjJbyArBVVk"
      },
      "execution_count": 24,
      "outputs": []
    },
    {
      "cell_type": "code",
      "source": [
        "Loaded_model.eval()"
      ],
      "metadata": {
        "colab": {
          "base_uri": "https://localhost:8080/"
        },
        "id": "YCR3gcMaBgXj",
        "outputId": "dd681d77-1fb6-4f4e-a856-0875a6e4595d"
      },
      "execution_count": 25,
      "outputs": [
        {
          "output_type": "execute_result",
          "data": {
            "text/plain": [
              "ANN_Model(\n",
              "  (f_connected1): Linear(in_features=8, out_features=20, bias=True)\n",
              "  (f_connected2): Linear(in_features=20, out_features=20, bias=True)\n",
              "  (out): Linear(in_features=20, out_features=2, bias=True)\n",
              ")"
            ]
          },
          "metadata": {},
          "execution_count": 25
        }
      ]
    },
    {
      "cell_type": "code",
      "source": [
        "# Prediction of new-data point\n",
        "\n",
        "list(df.iloc[0,:-1])"
      ],
      "metadata": {
        "colab": {
          "base_uri": "https://localhost:8080/"
        },
        "id": "bL5ADfXqKHNi",
        "outputId": "84016df5-5fc3-4f08-ae6f-6097d12616a2"
      },
      "execution_count": 27,
      "outputs": [
        {
          "output_type": "execute_result",
          "data": {
            "text/plain": [
              "[1.0, 85.0, 66.0, 29.0, 0.0, 26.6, 0.351, 31.0]"
            ]
          },
          "metadata": {},
          "execution_count": 27
        }
      ]
    },
    {
      "cell_type": "code",
      "source": [
        "# new-data\n",
        "lst1 = [6.0, 148.0, 72.0, 35.0, 0.0, 26.6, 0.627, 50.0]"
      ],
      "metadata": {
        "id": "y59vcWu-KSUX"
      },
      "execution_count": 28,
      "outputs": []
    },
    {
      "cell_type": "code",
      "source": [
        "new_data = torch.tensor(lst1)"
      ],
      "metadata": {
        "id": "PVCN85XvK331"
      },
      "execution_count": 30,
      "outputs": []
    },
    {
      "cell_type": "code",
      "source": [
        "with torch.no_grad():\n",
        "  print(model(new_data).argmax().item())"
      ],
      "metadata": {
        "colab": {
          "base_uri": "https://localhost:8080/"
        },
        "id": "Mfd1UEFMK5wk",
        "outputId": "7dd80821-2aea-491c-c49d-2b3c7a3c543b"
      },
      "execution_count": 34,
      "outputs": [
        {
          "output_type": "stream",
          "name": "stdout",
          "text": [
            "0\n"
          ]
        }
      ]
    },
    {
      "cell_type": "code",
      "source": [
        ""
      ],
      "metadata": {
        "id": "JNI-9gKnMWPz"
      },
      "execution_count": null,
      "outputs": []
    }
  ]
}